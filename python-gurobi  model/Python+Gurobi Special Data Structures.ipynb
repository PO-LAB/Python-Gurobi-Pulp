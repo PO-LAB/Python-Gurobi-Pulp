{
 "cells": [
  {
   "cell_type": "markdown",
   "metadata": {},
   "source": [
    "# Python+Gurobi Special Data Structures\n",
    "*POLab*\n",
    "<br>\n",
    "*2017/10/30*\n",
    "<br>\n",
    "[【Return to Homepage】](https://github.com/PO-LAB/Python-Gurobi)<br>\n",
    "#### ※Reference https://wenku.baidu.com/view/2aa313d328ea81c758f5782b.html, [Gurobi-Python Interface](https://www.gurobi.com/documentation/6.5/quickstart_windows/py_python_interface.html#section:Python)\n",
    "-----------------------------------------------"
   ]
  },
  {
   "cell_type": "markdown",
   "metadata": {},
   "source": [
    "In Gurobi's Python interface, the following data structures are frequently used. The first four are Python's native data structures, while tuplelist is a customized structure provided by Gurobi for its Python interface, allowing Python Gurobi to be more efficient and flexible in data processing.\n",
    "### ● list\n",
    "### ● tuple\n",
    "### ● dictionary\n",
    "### ● list comprehension\n",
    "### ● tuplelist\n",
    "\n"
   ]
  },
  {
   "cell_type": "markdown",
   "metadata": {},
   "source": [
    "## (1) List and tuple\n",
    "- Both are **ordered collections**, with indexing starting from <span style=\"color:red\">**’0’**</span>.\n",
    "- They can contain any objects internally, such as numbers, strings, dictionaries, lists, tuples, etc.\n",
    "- You can access the internal objects using indexing and slicing.\n",
    "\n",
    "### ● List\n",
    "\n",
    "- Formed using <span style=\"color:red\">\"[ ]\"</span>, <br>\n",
    "  e.g., [‘Pen’,’Denver’,’New York’].<br>\n",
    "- You can add, delete, and modify contents."
   ]
  },
  {
   "cell_type": "code",
   "execution_count": 1,
   "metadata": {
    "collapsed": false
   },
   "outputs": [
    {
     "name": "stdout",
     "output_type": "stream",
     "text": [
      "1\n",
      "list\n"
     ]
    }
   ],
   "source": [
    "# Create a list \"a\"\n",
    "a = [1, 2, 3, 'list']\n",
    "# The index position starts from 0\n",
    "print(a[0])\n",
    "print(a[3])"
   ]
  },
  {
   "cell_type": "code",
   "execution_count": 2,
   "metadata": {
    "collapsed": false
   },
   "outputs": [
    {
     "name": "stdout",
     "output_type": "stream",
     "text": [
      "[1, 2, 3, 'list', 4]\n"
     ]
    }
   ],
   "source": [
    "# Using \"append\" to add an element to the end of a list\n",
    "a.append(4)\n",
    "print(a)"
   ]
  },
  {
   "cell_type": "code",
   "execution_count": 3,
   "metadata": {
    "collapsed": false
   },
   "outputs": [
    {
     "name": "stdout",
     "output_type": "stream",
     "text": [
      "[1, 2, 'list', 4]\n"
     ]
    }
   ],
   "source": [
    "# Using 'remove' to delete elements that meet certain conditions from a list\n",
    "a.remove(3)\n",
    "print(a)"
   ]
  },
  {
   "cell_type": "markdown",
   "metadata": {
    "collapsed": true
   },
   "source": [
    "### ● Tuple\n",
    "\n",
    "- Using <span style=\"color:red\">\"()\"</span> to create, <br>\n",
    "  e.g., (‘Pen’,’Denver’,’New York’).<br>\n",
    "- A tuple is **immutable**, once created, it cannot be modified.\n",
    "- Due to its immutability, tuples can be used as indices for dictionaries.\n"
   ]
  },
  {
   "cell_type": "code",
   "execution_count": 4,
   "metadata": {
    "collapsed": false
   },
   "outputs": [
    {
     "name": "stdout",
     "output_type": "stream",
     "text": [
      "1\n",
      "tuple\n"
     ]
    }
   ],
   "source": [
    "# Create a tuple 'b'\n",
    "b = (1, 2, 3, 'tuple')\n",
    "# The index position starts from 0\n",
    "print(b[0])\n",
    "print(b[3])"
   ]
  },
  {
   "cell_type": "markdown",
   "metadata": {},
   "source": [
    "## (2) Dictionary and multidict"
   ]
  },
  {
   "cell_type": "markdown",
   "metadata": {},
   "source": [
    "### ● Dictionary\n",
    "- Use <span style=\"color:red\">”{ }”</span> to create a new dictionary. A dictionary represents an element with **\"key:value\"**, and distinguishes the key from the value using a colon <span style=\"color:red\">’:’</span>.\n",
    "- Any immutable Python object can be used as a key:<br>\n",
    "an integer, a foating-point number, a string, a tuple. <br>\n",
    "- Search for the corresponding \"value\" through the \"key\". <br>\n",
    "- In Python Gurobi, you can use a dictionary to store Gurobi decision variables."
   ]
  },
  {
   "cell_type": "code",
   "execution_count": 5,
   "metadata": {
    "collapsed": false
   },
   "outputs": [
    {
     "name": "stdout",
     "output_type": "stream",
     "text": [
      "{'zero': 0, 'two': 2, 'one': 1}\n"
     ]
    }
   ],
   "source": [
    "# Create a dictionary object named 'values' and associate each value with its corresponding key.\n",
    "values = {}\n",
    "values['zero'] = 0\n",
    "values['one'] = 1\n",
    "values['two'] = 2\n",
    "print(values)"
   ]
  },
  {
   "cell_type": "code",
   "execution_count": 6,
   "metadata": {
    "collapsed": false
   },
   "outputs": [
    {
     "name": "stdout",
     "output_type": "stream",
     "text": [
      "{'four': 4, 'five': 5, 'three': 3}\n"
     ]
    }
   ],
   "source": [
    "# Create a dictionary by initializing a data structure\n",
    "numbers = {'three':3,'four':4,'five':5}\n",
    "print(numbers)"
   ]
  },
  {
   "cell_type": "code",
   "execution_count": 7,
   "metadata": {
    "collapsed": false
   },
   "outputs": [
    {
     "name": "stdout",
     "output_type": "stream",
     "text": [
      "0\n",
      "3\n"
     ]
    }
   ],
   "source": [
    "# Using a key to find the corresponding value\n",
    "print(values['zero'])\n",
    "print(numbers['three'])"
   ]
  },
  {
   "cell_type": "markdown",
   "metadata": {},
   "source": [
    "### ● Multidict\n",
    "- You can initialize one or more dictionaries at once.<br>\n",
    "- The parameter is a dictionary object, where each key corresponds to a list of length n. This function will split each list into n individual items and create n separate dictionaries.<br>\n"
   ]
  },
  {
   "cell_type": "code",
   "execution_count": 8,
   "metadata": {
    "collapsed": false
   },
   "outputs": [],
   "source": [
    "from gurobipy import *\n",
    "names, lower, upper = multidict({'x':[0,1],' y':[1,2], 'z':[0,3]})"
   ]
  },
  {
   "cell_type": "code",
   "execution_count": 9,
   "metadata": {
    "collapsed": false
   },
   "outputs": [
    {
     "name": "stdout",
     "output_type": "stream",
     "text": [
      "['y', 'x', 'z']\n"
     ]
    }
   ],
   "source": [
    "# Display the shared key-value list\n",
    "print(names)"
   ]
  },
  {
   "cell_type": "code",
   "execution_count": 10,
   "metadata": {
    "collapsed": false
   },
   "outputs": [
    {
     "name": "stdout",
     "output_type": "stream",
     "text": [
      "{'y': 1, 'x': 0, 'z': 0}\n",
      "{'y': 2, 'x': 1, 'z': 3}\n"
     ]
    }
   ],
   "source": [
    "# Display the two dictionaries created\n",
    "print(lower)\n",
    "print(upper)"
   ]
  },
  {
   "cell_type": "markdown",
   "metadata": {},
   "source": [
    "## (3) List comprehension and tuplelist\n",
    "### ● List comprehension\n",
    "- Generate the list in a more concise manner.\n"
   ]
  },
  {
   "cell_type": "code",
   "execution_count": 11,
   "metadata": {
    "collapsed": false
   },
   "outputs": [
    {
     "name": "stdout",
     "output_type": "stream",
     "text": [
      "[1, 4, 9, 16, 25]\n"
     ]
    }
   ],
   "source": [
    "print([x*x for x in [1,2,3,4,5]])"
   ]
  },
  {
   "cell_type": "markdown",
   "metadata": {},
   "source": [
    "- A list comprehension can contain multiple for loops and if conditional statements\n"
   ]
  },
  {
   "cell_type": "code",
   "execution_count": 12,
   "metadata": {
    "collapsed": false
   },
   "outputs": [
    {
     "name": "stdout",
     "output_type": "stream",
     "text": [
      "[(0, 1), (0, 2), (1, 0), (1, 2), (2, 0), (2, 1)]\n"
     ]
    }
   ],
   "source": [
    "print([(x,y) for x in range(3) for y in range(3) if x != y])"
   ]
  },
  {
   "cell_type": "markdown",
   "metadata": {},
   "source": [
    "### ●  Tuplelist\n",
    "- Effectively retrieve matching sublists in a tuple list\n",
    "- Use the **select** method within the tuple list to return all subsets of tuples that satisfy specific conditions. This method can improve the efficiency of data selection.\n",
    "- Using the symbol <span style=\"color:red\">‘*’</span> indicates the values successfully paired at corresponding positions in the tuple.\n"
   ]
  },
  {
   "cell_type": "code",
   "execution_count": null,
   "metadata": {
    "collapsed": false
   },
   "outputs": [],
   "source": [
    "from gurobipy import *\n",
    "l = tuplelist([(1, 2), (1, 3), (2, 3), (2, 4)])\n",
    "print(l.select(1, '*'))"
   ]
  },
  {
   "cell_type": "code",
   "execution_count": null,
   "metadata": {
    "collapsed": false
   },
   "outputs": [
    {
     "name": "stdout",
     "output_type": "stream",
     "text": [
      "<gurobi.tuplelist (2 tuples, 2 values each):\n",
      " ( 1 , 3 )\n",
      " ( 2 , 3 )\n",
      ">\n"
     ]
    }
   ],
   "source": [
    "print(l.select('*', 3))"
   ]
  },
  {
   "cell_type": "code",
   "execution_count": null,
   "metadata": {
    "collapsed": false
   },
   "outputs": [
    {
     "name": "stdout",
     "output_type": "stream",
     "text": [
      "<gurobi.tuplelist (1 tuples, 2 values each):\n",
      " ( 1 , 3 )\n",
      ">\n"
     ]
    }
   ],
   "source": [
    "print(l.select(1, 3))"
   ]
  },
  {
   "cell_type": "code",
   "execution_count": null,
   "metadata": {
    "collapsed": false
   },
   "outputs": [
    {
     "name": "stdout",
     "output_type": "stream",
     "text": [
      "<gurobi.tuplelist (4 tuples, 2 values each):\n",
      " ( 1 , 2 )\n",
      " ( 1 , 3 )\n",
      " ( 2 , 3 )\n",
      " ( 2 , 4 )\n",
      ">\n"
     ]
    }
   ],
   "source": [
    "print(l.select('*', '*'))"
   ]
  },
  {
   "cell_type": "markdown",
   "metadata": {},
   "source": [
    "## ●  List comprehension v.s. tuplelist\n",
    "- List comprehensions can achieve the same search results as tuple lists, but they may be less efficient."
   ]
  },
  {
   "cell_type": "code",
   "execution_count": null,
   "metadata": {
    "collapsed": false
   },
   "outputs": [
    {
     "name": "stdout",
     "output_type": "stream",
     "text": [
      "<gurobi.tuplelist (2 tuples, 2 values each):\n",
      " ( 1 , 2 )\n",
      " ( 1 , 3 )\n",
      ">\n"
     ]
    }
   ],
   "source": [
    "print(l.select(1, '*'))"
   ]
  },
  {
   "cell_type": "code",
   "execution_count": null,
   "metadata": {
    "collapsed": false
   },
   "outputs": [
    {
     "name": "stdout",
     "output_type": "stream",
     "text": [
      "[(1, 2), (1, 3)]\n"
     ]
    }
   ],
   "source": [
    "print([(x,y) for x, y in l if x==1])"
   ]
  }
 ],
 "metadata": {
  "kernelspec": {
   "display_name": "Python 2",
   "language": "python",
   "name": "python2"
  },
  "language_info": {
   "codemirror_mode": {
    "name": "ipython",
    "version": 2
   },
   "file_extension": ".py",
   "mimetype": "text/x-python",
   "name": "python",
   "nbconvert_exporter": "python",
   "pygments_lexer": "ipython2",
   "version": "2.7.12"
  }
 },
 "nbformat": 4,
 "nbformat_minor": 2
}
